{
  "nbformat": 4,
  "nbformat_minor": 0,
  "metadata": {
    "colab": {
      "provenance": [],
      "toc_visible": true,
      "authorship_tag": "ABX9TyOCV2NTfaRIuQunHmc3lMvx",
      "include_colab_link": true
    },
    "kernelspec": {
      "name": "python3",
      "display_name": "Python 3"
    },
    "language_info": {
      "name": "python"
    }
  },
  "cells": [
    {
      "cell_type": "markdown",
      "metadata": {
        "id": "view-in-github",
        "colab_type": "text"
      },
      "source": [
        "<a href=\"https://colab.research.google.com/github/alcherniaev/college_algebra_python/blob/main/week_1.ipynb\" target=\"_parent\"><img src=\"https://colab.research.google.com/assets/colab-badge.svg\" alt=\"Open In Colab\"/></a>"
      ]
    },
    {
      "cell_type": "markdown",
      "source": [
        "Set up a proportion:<br>\n",
        "$\\frac{n1}{d1}=\\frac{n2}{d2}$\n"
      ],
      "metadata": {
        "id": "_2YDTUS_OKLZ"
      }
    },
    {
      "cell_type": "code",
      "execution_count": 2,
      "metadata": {
        "colab": {
          "base_uri": "https://localhost:8080/"
        },
        "id": "osys9qU4OcGx",
        "outputId": "57603aa1-d2a0-4f8c-edbf-9c1cb39e6c16"
      },
      "outputs": [
        {
          "output_type": "stream",
          "name": "stdout",
          "text": [
            "d2 =  8.0\n"
          ]
        }
      ],
      "source": [
        "# Put aт x in for the unknown value\n",
        "n1 = 1\n",
        "d1 = 2\n",
        "n2 = 4\n",
        "d2 = \"x\"\n",
        "\n",
        "if n2 == \"x\":\n",
        "    answer = d2 * n1 / d1\n",
        "    print(\"n2 = \", answer)\n",
        "    \n",
        "if d2 == \"x\":\n",
        "    answer = n2 * d1 / n1\n",
        "    print(\"d2 = \", answer)"
      ]
    },
    {
      "cell_type": "code",
      "source": [],
      "metadata": {
        "id": "AkYYOsabHghh"
      },
      "execution_count": null,
      "outputs": []
    }
  ]
}