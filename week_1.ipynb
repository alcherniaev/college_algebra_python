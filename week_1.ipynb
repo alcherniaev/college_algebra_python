{
  "nbformat": 4,
  "nbformat_minor": 0,
  "metadata": {
    "colab": {
      "provenance": [],
      "toc_visible": true,
      "authorship_tag": "ABX9TyPtrMw6zrqG18+8QK84aTzC",
      "include_colab_link": true
    },
    "kernelspec": {
      "name": "python3",
      "display_name": "Python 3"
    },
    "language_info": {
      "name": "python"
    }
  },
  "cells": [
    {
      "cell_type": "markdown",
      "metadata": {
        "id": "view-in-github",
        "colab_type": "text"
      },
      "source": [
        "<a href=\"https://colab.research.google.com/github/alcherniaev/college_algebra_python/blob/main/week_1.ipynb\" target=\"_parent\"><img src=\"https://colab.research.google.com/assets/colab-badge.svg\" alt=\"Open In Colab\"/></a>"
      ]
    },
    {
      "cell_type": "markdown",
      "source": [
        "# Proportion"
      ],
      "metadata": {
        "id": "_ougjhPmPPfK"
      }
    },
    {
      "cell_type": "markdown",
      "source": [
        "Set up a proportion:<br>\n",
        "$\\frac{n1}{d1}=\\frac{n2}{d2}$\n"
      ],
      "metadata": {
        "id": "_2YDTUS_OKLZ"
      }
    },
    {
      "cell_type": "code",
      "execution_count": null,
      "metadata": {
        "colab": {
          "base_uri": "https://localhost:8080/"
        },
        "id": "osys9qU4OcGx",
        "outputId": "57603aa1-d2a0-4f8c-edbf-9c1cb39e6c16"
      },
      "outputs": [
        {
          "output_type": "stream",
          "name": "stdout",
          "text": [
            "d2 =  8.0\n"
          ]
        }
      ],
      "source": [
        "# Put aт x in for the unknown value\n",
        "n1 = 1\n",
        "d1 = 2\n",
        "n2 = 4\n",
        "d2 = \"x\"\n",
        "\n",
        "if n2 == \"x\":\n",
        "    answer = d2 * n1 / d1\n",
        "    print(\"n2 = \", answer)\n",
        "    \n",
        "if d2 == \"x\":\n",
        "    answer = n2 * d1 / n1\n",
        "    print(\"d2 = \", answer)"
      ]
    },
    {
      "cell_type": "markdown",
      "source": [
        "# Solving for x"
      ],
      "metadata": {
        "id": "P3EeS5c0PY9P"
      }
    },
    {
      "cell_type": "markdown",
      "source": [
        "Solving for x. The variable `eq` is the equation set equal to zero. This will print an array of solutions."
      ],
      "metadata": {
        "id": "1LYxkui7aquV"
      }
    },
    {
      "cell_type": "code",
      "source": [
        "import sympy \n",
        "from sympy import symbols \n",
        "from sympy.solvers import solve \n",
        "\n",
        "x = symbols('x') \n",
        "\n",
        "# Put the equation here\n",
        "2 * x - 4 == 0\n",
        "\n",
        "print(\"x = \", solve(2*x - 4,x))"
      ],
      "metadata": {
        "colab": {
          "base_uri": "https://localhost:8080/"
        },
        "id": "AkYYOsabHghh",
        "outputId": "656f9c01-0174-4231-bf3b-a2bc60fb6f7c"
      },
      "execution_count": null,
      "outputs": [
        {
          "output_type": "stream",
          "name": "stdout",
          "text": [
            "x =  [2]\n"
          ]
        }
      ]
    },
    {
      "cell_type": "code",
      "source": [
        "import sympy \n",
        "from sympy import symbols \n",
        "from sympy.solvers import solve \n",
        "\n",
        "x = symbols('x') \n",
        "\n",
        "# Put the equation here\n",
        "eq = 2 * x**2 - 8\n",
        "\n",
        "print(\"x = \", solve(eq,x))"
      ],
      "metadata": {
        "colab": {
          "base_uri": "https://localhost:8080/"
        },
        "id": "VAnvFYOzax2h",
        "outputId": "c009ef69-f324-42ad-e302-b869136e953b"
      },
      "execution_count": null,
      "outputs": [
        {
          "output_type": "stream",
          "name": "stdout",
          "text": [
            "x =  [-2, 2]\n"
          ]
        }
      ]
    },
    {
      "cell_type": "code",
      "source": [
        "import sympy\n",
        "from sympy import symbols\n",
        "from sympy.solvers import solve\n",
        "\n",
        "x = symbols('x')\n",
        "eq = input('Enter equation: 0 = ')\n",
        "\n",
        "print(\"x = \", solve(eq,x))"
      ],
      "metadata": {
        "colab": {
          "base_uri": "https://localhost:8080/"
        },
        "id": "dt6yTq87bFym",
        "outputId": "26b2ff77-df08-4bb0-870a-b07f1e9f1e84"
      },
      "execution_count": null,
      "outputs": [
        {
          "output_type": "stream",
          "name": "stdout",
          "text": [
            "Enter equation: 0 = x  + 3\n",
            "x =  [-3]\n"
          ]
        }
      ]
    },
    {
      "cell_type": "code",
      "source": [
        "import sympy \n",
        "from sympy import symbols \n",
        "from sympy.solvers import solve \n",
        "\n",
        "x = symbols('x') \n",
        "\n",
        "# Put the equation here\n",
        "eq = 2*x - 4\n",
        "\n",
        "solution = solve(eq,x)\n",
        "print(\"x = \", solution)"
      ],
      "metadata": {
        "colab": {
          "base_uri": "https://localhost:8080/"
        },
        "id": "9amMuuWCdaAn",
        "outputId": "9f5a7a53-5a93-4ae3-d1d1-ec1de1e9ce0c"
      },
      "execution_count": null,
      "outputs": [
        {
          "output_type": "stream",
          "name": "stdout",
          "text": [
            "x =  [2]\n"
          ]
        }
      ]
    },
    {
      "cell_type": "code",
      "source": [
        "import sympy \n",
        "from sympy import symbols \n",
        "from sympy.solvers import solve \n",
        "\n",
        "x = symbols('x') \n",
        "\n",
        "# Put the equation here\n",
        "eq = 2*x - 4\n",
        "\n",
        "solution = solve(eq,x)\n",
        "print(\"x = \", solution[0])"
      ],
      "metadata": {
        "colab": {
          "base_uri": "https://localhost:8080/"
        },
        "id": "0zPn2ihngf4Z",
        "outputId": "6002936b-d857-4e2c-a13e-a835e99446b3"
      },
      "execution_count": null,
      "outputs": [
        {
          "output_type": "stream",
          "name": "stdout",
          "text": [
            "x =  2\n"
          ]
        }
      ]
    },
    {
      "cell_type": "code",
      "source": [
        "import sympy \n",
        "from sympy import symbols \n",
        "from sympy.solvers import solve \n",
        "\n",
        "x = symbols('x') \n",
        "\n",
        "eq = input('Enter equation: 0 = ')\n",
        "\n",
        "solution = solve(eq,x)\n",
        "for s in solution:\n",
        "    print(\"x = \", s)"
      ],
      "metadata": {
        "colab": {
          "base_uri": "https://localhost:8080/"
        },
        "id": "eMUctt94gjc5",
        "outputId": "3880e556-9083-44a2-b504-484746023370"
      },
      "execution_count": null,
      "outputs": [
        {
          "output_type": "stream",
          "name": "stdout",
          "text": [
            "Enter equation: 0 = (x-1) * (x+2)\n",
            "x =  -2\n",
            "x =  1\n"
          ]
        }
      ]
    },
    {
      "cell_type": "code",
      "source": [
        "from sympy import *\n",
        "\n",
        "\n",
        "var('x y') \n",
        "\n",
        "# First equation set equal to zero, ready to solve\n",
        "first = 2*x - 0\n",
        "\n",
        "\n",
        "# Sympy syntax for equation equal to zero, ready to factor\n",
        "eq1 = Eq(first,0) \n",
        "\n",
        "# Sympy solve for x\n",
        "sol = solve(eq1,x) \n",
        "\n",
        "# Show factored results\n",
        "print(\"x = \", sol[0])"
      ],
      "metadata": {
        "colab": {
          "base_uri": "https://localhost:8080/"
        },
        "id": "CmfarV26grgB",
        "outputId": "eaf3f05d-a124-4946-d300-1c146deea1b2"
      },
      "execution_count": null,
      "outputs": [
        {
          "output_type": "stream",
          "name": "stdout",
          "text": [
            "x =  0\n"
          ]
        }
      ]
    },
    {
      "cell_type": "code",
      "source": [
        "# added y instead if 0\n",
        "from sympy import *\n",
        "\n",
        "\n",
        "var('x y') \n",
        "\n",
        "# First equation set equal to zero, ready to solve\n",
        "first = 2*x - y\n",
        "\n",
        "\n",
        "# Sympy syntax for equation equal to zero, ready to factor\n",
        "eq1 = Eq(first,0) \n",
        "\n",
        "# Sympy solve for x\n",
        "sol = solve(eq1,x) \n",
        "\n",
        "# Show factored results\n",
        "print(\"x = \", sol[0])"
      ],
      "metadata": {
        "colab": {
          "base_uri": "https://localhost:8080/"
        },
        "id": "H3fXLNwEkE4I",
        "outputId": "3a5cab76-5b79-4ba2-f855-db54bd26eada"
      },
      "execution_count": null,
      "outputs": [
        {
          "output_type": "stream",
          "name": "stdout",
          "text": [
            "x =  y/2\n"
          ]
        }
      ]
    },
    {
      "cell_type": "markdown",
      "source": [
        "# Factoring"
      ],
      "metadata": {
        "id": "9it2rNRRGusu"
      }
    },
    {
      "cell_type": "code",
      "source": [
        "import sympy \n",
        "from sympy import * \n",
        "\n",
        "var('x y') \n",
        "\n",
        "# Equation set equal to zero, ready to solve\n",
        "#eq = x**2-4\n",
        "eq = x**3 - 2*x**2 - 5*x + 6 \n",
        "\n",
        "sympy.factor(eq)"
      ],
      "metadata": {
        "colab": {
          "base_uri": "https://localhost:8080/",
          "height": 38
        },
        "id": "dSNQKJVFkMl6",
        "outputId": "0c2dc04b-6f2a-4ec6-f1c5-062e8e8b09b4"
      },
      "execution_count": null,
      "outputs": [
        {
          "output_type": "execute_result",
          "data": {
            "text/plain": [
              "(x - 3)*(x - 1)*(x + 2)"
            ],
            "text/latex": "$\\displaystyle \\left(x - 3\\right) \\left(x - 1\\right) \\left(x + 2\\right)$"
          },
          "metadata": {},
          "execution_count": 24
        }
      ]
    },
    {
      "cell_type": "markdown",
      "source": [
        "# Positive and negative exponents"
      ],
      "metadata": {
        "id": "ka_8PMpmQj68"
      }
    },
    {
      "cell_type": "code",
      "source": [
        "print(10**1)\n",
        "print(10**2)\n",
        "print(10**3)\n",
        "print(10**0)\n",
        "print(10**-1)\n",
        "print(10**-2)\n",
        "print(10**-3)\n"
      ],
      "metadata": {
        "colab": {
          "base_uri": "https://localhost:8080/"
        },
        "id": "tKOwZCb1Ql62",
        "outputId": "f800d99e-d221-4dbf-b1f6-7f936bd011f9"
      },
      "execution_count": 1,
      "outputs": [
        {
          "output_type": "stream",
          "name": "stdout",
          "text": [
            "10\n",
            "100\n",
            "1000\n",
            "1\n",
            "0.1\n",
            "0.01\n",
            "0.001\n"
          ]
        }
      ]
    },
    {
      "cell_type": "markdown",
      "source": [
        "# Decimal, fraction, percent"
      ],
      "metadata": {
        "id": "j2G-WL-bR-zB"
      }
    },
    {
      "cell_type": "code",
      "source": [
        "# Get string input, which will include a decimal point\n",
        "digits = input(\"Enter a decimal number to convert: \")\n",
        "\n",
        "# Get number of decimal places as an integer\n",
        "exponent = int(len(digits))-1\n",
        "\n",
        "# Convert the input to a float number\n",
        "n = float(digits)\n",
        "\n",
        "# Use the exponent to get the numerator\n",
        "numerator = int(n * 10**exponent)\n",
        "\n",
        "# Use the expoent to get the denominator\n",
        "denominator = 10**exponent\n",
        "\n",
        "# percent is the first two decimal places\n",
        "percent = n * 100\n",
        "\n",
        "# Output\n",
        "print(\"The decimal is \", n)\n",
        "print(\"The fraction is \", numerator, \"/\", denominator)\n",
        "print(\"The percent is \", percent, \" %\")\n"
      ],
      "metadata": {
        "colab": {
          "base_uri": "https://localhost:8080/"
        },
        "id": "7F3m98WOQuxX",
        "outputId": "ed0c6f53-2056-4b72-cc50-943481bda2a3"
      },
      "execution_count": 5,
      "outputs": [
        {
          "output_type": "stream",
          "name": "stdout",
          "text": [
            "Enter a decimal number to convert: .3\n",
            "The decimal is  0.3\n",
            "The fraction is  3 / 10\n",
            "The percent is  30.0  %\n"
          ]
        }
      ]
    },
    {
      "cell_type": "markdown",
      "source": [
        "# Functions"
      ],
      "metadata": {
        "id": "vSuR5Uu3PoNp"
      }
    },
    {
      "cell_type": "code",
      "source": [
        "x = 5\n",
        "y = 4*x + 3 # The function \n",
        "\n",
        "print(x,\",\",y)\n",
        "print(\"x \\t y\") \n",
        "\n",
        "for x in range(11):\n",
        "    y = 4*x + 3  # The function\n",
        "    print(x, \"\\t\", y)\n",
        "\n"
      ],
      "metadata": {
        "colab": {
          "base_uri": "https://localhost:8080/"
        },
        "id": "hAnoELKOPkCE",
        "outputId": "711e0266-5481-4241-eec7-4c6a26957264"
      },
      "execution_count": 6,
      "outputs": [
        {
          "output_type": "stream",
          "name": "stdout",
          "text": [
            "5 , 23\n",
            "x \t y\n",
            "0 \t 3\n",
            "1 \t 7\n",
            "2 \t 11\n",
            "3 \t 15\n",
            "4 \t 19\n",
            "5 \t 23\n",
            "6 \t 27\n",
            "7 \t 31\n",
            "8 \t 35\n",
            "9 \t 39\n",
            "10 \t 43\n"
          ]
        }
      ]
    },
    {
      "cell_type": "markdown",
      "source": [
        "## Defning a Python function"
      ],
      "metadata": {
        "id": "_5jmF9ydR2cs"
      }
    },
    {
      "cell_type": "code",
      "source": [
        "def f(x):\n",
        "   y = 4*x + 3\n",
        "   return y\n",
        "\n",
        "print(5, \",\", f(5)) \n",
        "\n",
        "# Next, a loop\n",
        "for x in range(11):\n",
        "    print(x, \"\\t\", f(x)) "
      ],
      "metadata": {
        "colab": {
          "base_uri": "https://localhost:8080/"
        },
        "id": "5bT6di0rPmaT",
        "outputId": "b61f75c2-c94a-455d-c1f0-4c9f4c6f443d"
      },
      "execution_count": 7,
      "outputs": [
        {
          "output_type": "stream",
          "name": "stdout",
          "text": [
            "5 , 23\n",
            "0 \t 3\n",
            "1 \t 7\n",
            "2 \t 11\n",
            "3 \t 15\n",
            "4 \t 19\n",
            "5 \t 23\n",
            "6 \t 27\n",
            "7 \t 31\n",
            "8 \t 35\n",
            "9 \t 39\n",
            "10 \t 43\n"
          ]
        }
      ]
    },
    {
      "cell_type": "markdown",
      "source": [
        "## Graphing functions"
      ],
      "metadata": {
        "id": "XmUXp5Z7ST0N"
      }
    },
    {
      "cell_type": "code",
      "source": [
        "# Basic blank graph\n",
        "\n",
        "import matplotlib.pyplot as plt\n",
        "\n",
        "fig, ax = plt.subplots()\n",
        "plt.show()\n"
      ],
      "metadata": {
        "colab": {
          "base_uri": "https://localhost:8080/",
          "height": 269
        },
        "id": "JLRaoj2tSknN",
        "outputId": "b12d5c56-bb65-4fe7-869a-a9a2ef980ed1"
      },
      "execution_count": 8,
      "outputs": [
        {
          "output_type": "display_data",
          "data": {
            "text/plain": [
              "<Figure size 432x288 with 1 Axes>"
            ],
            "image/png": "[encoded data removed]"
          },
          "metadata": {
            "needs_background": "light"
          }
        }
      ]
    },
    {
      "cell_type": "code",
      "source": [
        "# Define dimensions of graph\n",
        "import matplotlib.pyplot as plt\n",
        "\n",
        "xmin = -10\n",
        "xmax = 10\n",
        "ymin = -10\n",
        "ymax = 20\n",
        "\n",
        "fig, ax = plt.subplots()\n",
        "plt.axis([xmin,xmax,ymin,ymax]) # window size\n",
        "plt.show()"
      ],
      "metadata": {
        "colab": {
          "base_uri": "https://localhost:8080/",
          "height": 269
        },
        "id": "3iR7Q6hVS2bH",
        "outputId": "ea01b01c-2c41-40d7-cba1-dc0a5b29e56c"
      },
      "execution_count": 1,
      "outputs": [
        {
          "output_type": "display_data",
          "data": {
            "text/plain": [
              "<Figure size 432x288 with 1 Axes>"
            ],
            "image/png": "[encoded data removed]"
          },
          "metadata": {
            "needs_background": "light"
          }
        }
      ]
    },
    {
      "cell_type": "code",
      "source": [
        "# Display axis lines\n",
        "import matplotlib.pyplot as plt\n",
        "\n",
        "xmin = -10\n",
        "xmax = 10\n",
        "ymin = -10\n",
        "ymax = 10\n",
        "\n",
        "fig, ax = plt.subplots()\n",
        "plt.axis([xmin,xmax,ymin,ymax]) # window size\n",
        "plt.plot([xmin,xmax],[0,0],'g') # green x axis\n",
        "plt.plot([0,0],[ymin,ymax], 'b') # blue y axis\n",
        "\n",
        "plt.show()\n"
      ],
      "metadata": {
        "colab": {
          "base_uri": "https://localhost:8080/",
          "height": 269
        },
        "id": "Nmyjh86NS-ZC",
        "outputId": "2efc95f9-be53-4c32-ad6a-68a9b01eab12"
      },
      "execution_count": 3,
      "outputs": [
        {
          "output_type": "display_data",
          "data": {
            "text/plain": [
              "<Figure size 432x288 with 1 Axes>"
            ],
            "image/png": "[encoded data removed]"
          },
          "metadata": {
            "needs_background": "light"
          }
        }
      ]
    },
    {
      "cell_type": "code",
      "source": [
        "# Plot one point\n",
        "\n",
        "import matplotlib.pyplot as plt\n",
        "\n",
        "xmin = -10\n",
        "xmax = 10\n",
        "ymin = -10\n",
        "ymax = 10\n",
        "\n",
        "fig, ax = plt.subplots()\n",
        "plt.axis([xmin,xmax,ymin,ymax]) # window size\n",
        "plt.plot([xmin,xmax],[0,0],'black') # blue x axis\n",
        "plt.plot([0,0],[ymin,ymax], 'black') # blue y axis\n",
        "\n",
        "\n",
        "plt.plot([5],[4], 'ro') # 0 means circle dor, r = red\n",
        "plt.plot([-5],[-4], 'rd') # d means dash dot, r = red\n",
        "plt.show()"
      ],
      "metadata": {
        "colab": {
          "base_uri": "https://localhost:8080/",
          "height": 269
        },
        "id": "QpP-4yGoTAiS",
        "outputId": "21a2e76e-8b1e-4c33-9423-90740500d3d1"
      },
      "execution_count": 9,
      "outputs": [
        {
          "output_type": "display_data",
          "data": {
            "text/plain": [
              "<Figure size 432x288 with 1 Axes>"
            ],
            "image/png": "[encoded data removed]"
          },
          "metadata": {
            "needs_background": "light"
          }
        }
      ]
    },
    {
      "cell_type": "code",
      "source": [
        "# Graph and table of (x,y) values\n",
        "\n",
        "import matplotlib.pyplot as plt\n",
        "\n",
        "xmin = -10\n",
        "xmax = 10\n",
        "ymin = -10\n",
        "ymax = 10\n",
        "\n",
        "fig, ax = plt.subplots()\n",
        "plt.axis([xmin,xmax,ymin,ymax]) # window size\n",
        "plt.plot([xmin,xmax],[0,0],'b') # blue x axis\n",
        "plt.plot([0,0],[ymin,ymax], 'b') # blue y axis\n",
        "\n",
        "print(\"x \\t y\")\n",
        "for x in range(xmin, xmax+1):\n",
        "    y = 0.5*x + 1\n",
        "    plt.plot([x],[y], 'ro')\n",
        "    print(x,\"\\t\",y)\n",
        "\n",
        "plt.show()"
      ],
      "metadata": {
        "colab": {
          "base_uri": "https://localhost:8080/",
          "height": 651
        },
        "id": "dnlCv8PGTFf8",
        "outputId": "9eb96d2d-b62b-412a-c4cf-48c69cc53326"
      },
      "execution_count": 13,
      "outputs": [
        {
          "output_type": "stream",
          "name": "stdout",
          "text": [
            "x \t y\n",
            "-10 \t -4.0\n",
            "-9 \t -3.5\n",
            "-8 \t -3.0\n",
            "-7 \t -2.5\n",
            "-6 \t -2.0\n",
            "-5 \t -1.5\n",
            "-4 \t -1.0\n",
            "-3 \t -0.5\n",
            "-2 \t 0.0\n",
            "-1 \t 0.5\n",
            "0 \t 1.0\n",
            "1 \t 1.5\n",
            "2 \t 2.0\n",
            "3 \t 2.5\n",
            "4 \t 3.0\n",
            "5 \t 3.5\n",
            "6 \t 4.0\n",
            "7 \t 4.5\n",
            "8 \t 5.0\n",
            "9 \t 5.5\n",
            "10 \t 6.0\n"
          ]
        },
        {
          "output_type": "display_data",
          "data": {
            "text/plain": [
              "<Figure size 432x288 with 1 Axes>"
            ],
            "image/png": "[encoded data removed]"
          },
          "metadata": {
            "needs_background": "light"
          }
        }
      ]
    },
    {
      "cell_type": "code",
      "source": [],
      "metadata": {
        "id": "v-oyvgNYTNpK"
      },
      "execution_count": null,
      "outputs": []
    }
  ]
}