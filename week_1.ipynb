{
  "nbformat": 4,
  "nbformat_minor": 0,
  "metadata": {
    "colab": {
      "provenance": [],
      "toc_visible": true,
      "authorship_tag": "ABX9TyNBo7C1sUnO0XgPQb8NQm2y",
      "include_colab_link": true
    },
    "kernelspec": {
      "name": "python3",
      "display_name": "Python 3"
    },
    "language_info": {
      "name": "python"
    }
  },
  "cells": [
    {
      "cell_type": "markdown",
      "metadata": {
        "id": "view-in-github",
        "colab_type": "text"
      },
      "source": [
        "<a href=\"https://colab.research.google.com/github/alcherniaev/college_algebra_python/blob/main/week_1.ipynb\" target=\"_parent\"><img src=\"https://colab.research.google.com/assets/colab-badge.svg\" alt=\"Open In Colab\"/></a>"
      ]
    },
    {
      "cell_type": "markdown",
      "source": [
        "# Proportion"
      ],
      "metadata": {
        "id": "_ougjhPmPPfK"
      }
    },
    {
      "cell_type": "markdown",
      "source": [
        "Set up a proportion:<br>\n",
        "$\\frac{n1}{d1}=\\frac{n2}{d2}$\n"
      ],
      "metadata": {
        "id": "_2YDTUS_OKLZ"
      }
    },
    {
      "cell_type": "code",
      "execution_count": null,
      "metadata": {
        "colab": {
          "base_uri": "https://localhost:8080/"
        },
        "id": "osys9qU4OcGx",
        "outputId": "57603aa1-d2a0-4f8c-edbf-9c1cb39e6c16"
      },
      "outputs": [
        {
          "output_type": "stream",
          "name": "stdout",
          "text": [
            "d2 =  8.0\n"
          ]
        }
      ],
      "source": [
        "# Put aт x in for the unknown value\n",
        "n1 = 1\n",
        "d1 = 2\n",
        "n2 = 4\n",
        "d2 = \"x\"\n",
        "\n",
        "if n2 == \"x\":\n",
        "    answer = d2 * n1 / d1\n",
        "    print(\"n2 = \", answer)\n",
        "    \n",
        "if d2 == \"x\":\n",
        "    answer = n2 * d1 / n1\n",
        "    print(\"d2 = \", answer)"
      ]
    },
    {
      "cell_type": "markdown",
      "source": [
        "# Solving for x"
      ],
      "metadata": {
        "id": "P3EeS5c0PY9P"
      }
    },
    {
      "cell_type": "markdown",
      "source": [
        "Solving for x. The variable `eq` is the equation set equal to zero. This will print an array of solutions."
      ],
      "metadata": {
        "id": "1LYxkui7aquV"
      }
    },
    {
      "cell_type": "code",
      "source": [
        "import sympy \n",
        "from sympy import symbols \n",
        "from sympy.solvers import solve \n",
        "\n",
        "x = symbols('x') \n",
        "\n",
        "# Put the equation here\n",
        "2 * x - 4 == 0\n",
        "\n",
        "print(\"x = \", solve(2*x - 4,x))"
      ],
      "metadata": {
        "colab": {
          "base_uri": "https://localhost:8080/"
        },
        "id": "AkYYOsabHghh",
        "outputId": "656f9c01-0174-4231-bf3b-a2bc60fb6f7c"
      },
      "execution_count": null,
      "outputs": [
        {
          "output_type": "stream",
          "name": "stdout",
          "text": [
            "x =  [2]\n"
          ]
        }
      ]
    },
    {
      "cell_type": "code",
      "source": [
        "import sympy \n",
        "from sympy import symbols \n",
        "from sympy.solvers import solve \n",
        "\n",
        "x = symbols('x') \n",
        "\n",
        "# Put the equation here\n",
        "eq = 2 * x**2 - 8\n",
        "\n",
        "print(\"x = \", solve(eq,x))"
      ],
      "metadata": {
        "colab": {
          "base_uri": "https://localhost:8080/"
        },
        "id": "VAnvFYOzax2h",
        "outputId": "c009ef69-f324-42ad-e302-b869136e953b"
      },
      "execution_count": null,
      "outputs": [
        {
          "output_type": "stream",
          "name": "stdout",
          "text": [
            "x =  [-2, 2]\n"
          ]
        }
      ]
    },
    {
      "cell_type": "code",
      "source": [
        "import sympy\n",
        "from sympy import symbols\n",
        "from sympy.solvers import solve\n",
        "\n",
        "x = symbols('x')\n",
        "eq = input('Enter equation: 0 = ')\n",
        "\n",
        "print(\"x = \", solve(eq,x))"
      ],
      "metadata": {
        "colab": {
          "base_uri": "https://localhost:8080/"
        },
        "id": "dt6yTq87bFym",
        "outputId": "26b2ff77-df08-4bb0-870a-b07f1e9f1e84"
      },
      "execution_count": null,
      "outputs": [
        {
          "output_type": "stream",
          "name": "stdout",
          "text": [
            "Enter equation: 0 = x  + 3\n",
            "x =  [-3]\n"
          ]
        }
      ]
    },
    {
      "cell_type": "code",
      "source": [
        "import sympy \n",
        "from sympy import symbols \n",
        "from sympy.solvers import solve \n",
        "\n",
        "x = symbols('x') \n",
        "\n",
        "# Put the equation here\n",
        "eq = 2*x - 4\n",
        "\n",
        "solution = solve(eq,x)\n",
        "print(\"x = \", solution)"
      ],
      "metadata": {
        "colab": {
          "base_uri": "https://localhost:8080/"
        },
        "id": "9amMuuWCdaAn",
        "outputId": "9f5a7a53-5a93-4ae3-d1d1-ec1de1e9ce0c"
      },
      "execution_count": null,
      "outputs": [
        {
          "output_type": "stream",
          "name": "stdout",
          "text": [
            "x =  [2]\n"
          ]
        }
      ]
    },
    {
      "cell_type": "code",
      "source": [
        "import sympy \n",
        "from sympy import symbols \n",
        "from sympy.solvers import solve \n",
        "\n",
        "x = symbols('x') \n",
        "\n",
        "# Put the equation here\n",
        "eq = 2*x - 4\n",
        "\n",
        "solution = solve(eq,x)\n",
        "print(\"x = \", solution[0])"
      ],
      "metadata": {
        "colab": {
          "base_uri": "https://localhost:8080/"
        },
        "id": "0zPn2ihngf4Z",
        "outputId": "6002936b-d857-4e2c-a13e-a835e99446b3"
      },
      "execution_count": null,
      "outputs": [
        {
          "output_type": "stream",
          "name": "stdout",
          "text": [
            "x =  2\n"
          ]
        }
      ]
    },
    {
      "cell_type": "code",
      "source": [
        "import sympy \n",
        "from sympy import symbols \n",
        "from sympy.solvers import solve \n",
        "\n",
        "x = symbols('x') \n",
        "\n",
        "eq = input('Enter equation: 0 = ')\n",
        "\n",
        "solution = solve(eq,x)\n",
        "for s in solution:\n",
        "    print(\"x = \", s)"
      ],
      "metadata": {
        "colab": {
          "base_uri": "https://localhost:8080/"
        },
        "id": "eMUctt94gjc5",
        "outputId": "3880e556-9083-44a2-b504-484746023370"
      },
      "execution_count": null,
      "outputs": [
        {
          "output_type": "stream",
          "name": "stdout",
          "text": [
            "Enter equation: 0 = (x-1) * (x+2)\n",
            "x =  -2\n",
            "x =  1\n"
          ]
        }
      ]
    },
    {
      "cell_type": "code",
      "source": [
        "from sympy import *\n",
        "\n",
        "\n",
        "var('x y') \n",
        "\n",
        "# First equation set equal to zero, ready to solve\n",
        "first = 2*x - 0\n",
        "\n",
        "\n",
        "# Sympy syntax for equation equal to zero, ready to factor\n",
        "eq1 = Eq(first,0) \n",
        "\n",
        "# Sympy solve for x\n",
        "sol = solve(eq1,x) \n",
        "\n",
        "# Show factored results\n",
        "print(\"x = \", sol[0])"
      ],
      "metadata": {
        "colab": {
          "base_uri": "https://localhost:8080/"
        },
        "id": "CmfarV26grgB",
        "outputId": "eaf3f05d-a124-4946-d300-1c146deea1b2"
      },
      "execution_count": null,
      "outputs": [
        {
          "output_type": "stream",
          "name": "stdout",
          "text": [
            "x =  0\n"
          ]
        }
      ]
    },
    {
      "cell_type": "code",
      "source": [
        "# added y instead if 0\n",
        "from sympy import *\n",
        "\n",
        "\n",
        "var('x y') \n",
        "\n",
        "# First equation set equal to zero, ready to solve\n",
        "first = 2*x - y\n",
        "\n",
        "\n",
        "# Sympy syntax for equation equal to zero, ready to factor\n",
        "eq1 = Eq(first,0) \n",
        "\n",
        "# Sympy solve for x\n",
        "sol = solve(eq1,x) \n",
        "\n",
        "# Show factored results\n",
        "print(\"x = \", sol[0])"
      ],
      "metadata": {
        "colab": {
          "base_uri": "https://localhost:8080/"
        },
        "id": "H3fXLNwEkE4I",
        "outputId": "3a5cab76-5b79-4ba2-f855-db54bd26eada"
      },
      "execution_count": null,
      "outputs": [
        {
          "output_type": "stream",
          "name": "stdout",
          "text": [
            "x =  y/2\n"
          ]
        }
      ]
    },
    {
      "cell_type": "markdown",
      "source": [
        "# Factoring"
      ],
      "metadata": {
        "id": "9it2rNRRGusu"
      }
    },
    {
      "cell_type": "markdown",
      "source": [
        "The modulus (`%`) finds the remainder "
      ],
      "metadata": {
        "id": "n7vfdMDlW_Mp"
      }
    },
    {
      "cell_type": "code",
      "source": [
        "print(5%3) \n",
        "print(31%10) "
      ],
      "metadata": {
        "colab": {
          "base_uri": "https://localhost:8080/"
        },
        "id": "Canxs-v9W_99",
        "outputId": "d6ff5a06-fe43-49d6-a567-b6ef2d0a04e3"
      },
      "execution_count": null,
      "outputs": [
        {
          "output_type": "stream",
          "name": "stdout",
          "text": [
            "2\n",
            "1\n"
          ]
        }
      ]
    },
    {
      "cell_type": "code",
      "source": [
        "#Use the modulus in a loop to find factors\n",
        "\n",
        "number = 12 \n",
        "\n",
        "# Find all factors \n",
        "for test_factor in range(1,number+1): \n",
        "    if number%test_factor==0: \n",
        "        print(test_factor) "
      ],
      "metadata": {
        "colab": {
          "base_uri": "https://localhost:8080/"
        },
        "id": "YkwTbPQIXE0Q",
        "outputId": "46533c18-a53b-4acf-cb49-3cf23979c9f6"
      },
      "execution_count": null,
      "outputs": [
        {
          "output_type": "stream",
          "name": "stdout",
          "text": [
            "1\n",
            "2\n",
            "3\n",
            "4\n",
            "6\n",
            "12\n"
          ]
        }
      ]
    },
    {
      "cell_type": "code",
      "source": [
        "#Reduce fractions to lowest terms\n",
        "\n",
        "numerator = 12\n",
        "denominator = 24\n",
        "factor = 1\n",
        "\n",
        "# Find greatest common factor \n",
        "for test_factor in range(1,denominator+1): \n",
        "    if numerator%test_factor==0 and denominator%test_factor==0:\n",
        "        factor = test_factor \n",
        "\n",
        "# Divide out greatest common factor \n",
        "n = int(numerator/factor) \n",
        "d = int(denominator/factor) \n",
        "\n",
        "print(\"original: \", numerator, \"/\", denominator) \n",
        "print(\"reduced: \", n, \"/\", d) \n"
      ],
      "metadata": {
        "colab": {
          "base_uri": "https://localhost:8080/"
        },
        "id": "Xg3T50SdXIni",
        "outputId": "f48a9f9f-4157-47cd-f8d2-f7e29fdc93e3"
      },
      "execution_count": null,
      "outputs": [
        {
          "output_type": "stream",
          "name": "stdout",
          "text": [
            "original:  12 / 24\n",
            "reduced:  1 / 2\n"
          ]
        }
      ]
    },
    {
      "cell_type": "code",
      "source": [
        "# You can add this code to the decimal-to-fraction code\n",
        "\n",
        "# Get the decimal number to convert\n",
        "digits = input(\"Enter a decimal number to convert: \") \n",
        "\n",
        "# Convert to fraction \n",
        "exponent = int(len(digits))-1 \n",
        "n = float(digits) \n",
        "numerator = int(n * 10**exponent) \n",
        "denominator = 10**exponent \n",
        "print(f\"exponent: {exponent}\")\n",
        "print(f\"numerator: {numerator}\")\n",
        "print(f\"denominator: {denominator}\")\n",
        "# Reduce that fraction\n",
        "factor = 1 \n",
        "for test_factor in range(1,denominator+1): \n",
        "    if numerator % test_factor==0 and denominator % test_factor == 0: \n",
        "        factor = test_factor \n",
        "\n",
        "# Divide out greatest common factor \n",
        "num = int(numerator/factor) \n",
        "den = int(denominator/factor) \n",
        "\n",
        "# Output \n",
        "print(\"The decimal is \", n) \n",
        "print(\"The fraction is \", num, \"/\", den) \n"
      ],
      "metadata": {
        "colab": {
          "base_uri": "https://localhost:8080/"
        },
        "id": "mYoyYuT6ae-4",
        "outputId": "bdc59ab2-bd22-43f4-de57-c24a55bdd21f"
      },
      "execution_count": null,
      "outputs": [
        {
          "output_type": "stream",
          "name": "stdout",
          "text": [
            "Enter a decimal number to convert: 0.25\n",
            "exponent: 3\n",
            "numerator: 250\n",
            "denominator: 1000\n",
            "The decimal is  0.25\n",
            "The fraction is  1 / 4\n"
          ]
        }
      ]
    },
    {
      "cell_type": "markdown",
      "source": [
        "## Factoring square roots"
      ],
      "metadata": {
        "id": "TwIxITyLEYmH"
      }
    },
    {
      "cell_type": "code",
      "source": [
        "import math\n",
        "\n",
        "print(math.sqrt(24)) "
      ],
      "metadata": {
        "colab": {
          "base_uri": "https://localhost:8080/"
        },
        "id": "h6hRXUvnFTcy",
        "outputId": "febe3f50-7b3c-419a-d257-b30cbd613113"
      },
      "execution_count": null,
      "outputs": [
        {
          "output_type": "stream",
          "name": "stdout",
          "text": [
            "4.898979485566356\n"
          ]
        }
      ]
    },
    {
      "cell_type": "markdown",
      "source": [
        "Divide out any perfect square factors. For example:<br>\n",
        " $\\sqrt{12}$ = $\\sqrt{4 * 3}$ = 2$\\sqrt{3}$<br>\n",
        "Because 4 is a square number, the square root of 4 is now outside the radical."
      ],
      "metadata": {
        "id": "rX1UL7MXFMcP"
      }
    },
    {
      "cell_type": "code",
      "source": [
        "import sympy \n",
        "from sympy import * \n",
        "\n",
        "var('x y') \n",
        "\n",
        "# Equation set equal to zero, ready to solve\n",
        "#eq = x**2-4\n",
        "eq = x**3 - 2*x**2 - 5*x + 6 \n",
        "\n",
        "sympy.factor(eq)"
      ],
      "metadata": {
        "colab": {
          "base_uri": "https://localhost:8080/",
          "height": 38
        },
        "id": "dSNQKJVFkMl6",
        "outputId": "0c2dc04b-6f2a-4ec6-f1c5-062e8e8b09b4"
      },
      "execution_count": null,
      "outputs": [
        {
          "output_type": "execute_result",
          "data": {
            "text/plain": [
              "(x - 3)*(x - 1)*(x + 2)"
            ],
            "text/latex": "$\\displaystyle \\left(x - 3\\right) \\left(x - 1\\right) \\left(x + 2\\right)$"
          },
          "metadata": {},
          "execution_count": 24
        }
      ]
    },
    {
      "cell_type": "code",
      "source": [
        "import math\n",
        "\n",
        "# number to factor\n",
        "n = 12 \n",
        "\n",
        "# This variable will change\n",
        "max_factor = 1 \n",
        "\n",
        "# The key ingredient\n",
        "upper_limit = math.floor(math.sqrt(n)) + 1 \n",
        "\n",
        "# Find square factors\n",
        "for maybe_factor in range(1,upper_limit): \n",
        "    if n % (maybe_factor**2) == 0: \n",
        "        max_factor = maybe_factor \n",
        "\n",
        "# Results so far\n",
        "print(\"n = \", n) \n",
        "print(\"Square rooted factor = \", max_factor) \n",
        "print(\"Square factor = \", max_factor**2) \n",
        "print(\"integer: \", int(n/(max_factor**2))) "
      ],
      "metadata": {
        "colab": {
          "base_uri": "https://localhost:8080/"
        },
        "id": "h1eX1X5AQsyX",
        "outputId": "1c08b7e3-8f2f-43cd-a5d0-d197db8db3f3"
      },
      "execution_count": null,
      "outputs": [
        {
          "output_type": "stream",
          "name": "stdout",
          "text": [
            "n =  12\n",
            "Square rooted factor =  2\n",
            "Square factor =  4\n",
            "integer:  3\n"
          ]
        }
      ]
    },
    {
      "cell_type": "code",
      "source": [
        "# Using Sympy to make this look nice\n",
        "\n",
        "import math\n",
        "import sympy\n",
        "from sympy import symbols\n",
        "\n",
        "n = 12\n",
        "\n",
        "# Use these variables\n",
        "upper_limit = math.floor(math.sqrt(n)) + 1 \n",
        "max_factor = 1 \n",
        "other_factor = 1 \n",
        "square_root = 1 \n",
        "\n",
        "# Slightly different variable strategy\n",
        "for maybe_factor in range(1, upper_limit): \n",
        "    if n % (maybe_factor**2) == 0: \n",
        "        max_factor = maybe_factor**2 \n",
        "\n",
        "# Divide out the greatest square factor\n",
        "other_factor = n/max_factor \n",
        "\n",
        "# Output variables\n",
        "square_root = int(math.sqrt(max_factor)) \n",
        "other_factor = int(other_factor) \n",
        "output = square_root*sympy.sqrt(other_factor) \n",
        "\n",
        "# Sympy output without print statement - must be last line\n",
        "output "
      ],
      "metadata": {
        "colab": {
          "base_uri": "https://localhost:8080/",
          "height": 39
        },
        "id": "igtzlkRvRqHv",
        "outputId": "d7e861ab-e6a6-455b-8024-2e5a16a6a933"
      },
      "execution_count": null,
      "outputs": [
        {
          "output_type": "execute_result",
          "data": {
            "text/plain": [
              "2*sqrt(3)"
            ],
            "text/latex": "$\\displaystyle 2 \\sqrt{3}$"
          },
          "metadata": {},
          "execution_count": 4
        }
      ]
    },
    {
      "cell_type": "markdown",
      "source": [
        "# Positive and negative exponents"
      ],
      "metadata": {
        "id": "ka_8PMpmQj68"
      }
    },
    {
      "cell_type": "markdown",
      "source": [],
      "metadata": {
        "id": "EuTgwrs2RoXr"
      }
    },
    {
      "cell_type": "code",
      "source": [
        "print(10**1)\n",
        "print(10**2)\n",
        "print(10**3)\n",
        "print(10**0)\n",
        "print(10**-1)\n",
        "print(10**-2)\n",
        "print(10**-3)\n"
      ],
      "metadata": {
        "colab": {
          "base_uri": "https://localhost:8080/"
        },
        "id": "tKOwZCb1Ql62",
        "outputId": "f800d99e-d221-4dbf-b1f6-7f936bd011f9"
      },
      "execution_count": null,
      "outputs": [
        {
          "output_type": "stream",
          "name": "stdout",
          "text": [
            "10\n",
            "100\n",
            "1000\n",
            "1\n",
            "0.1\n",
            "0.01\n",
            "0.001\n"
          ]
        }
      ]
    },
    {
      "cell_type": "markdown",
      "source": [
        "# Decimal, fraction, percent"
      ],
      "metadata": {
        "id": "j2G-WL-bR-zB"
      }
    },
    {
      "cell_type": "code",
      "source": [
        "# Get string input, which will include a decimal point\n",
        "digits = input(\"Enter a decimal number to convert: \")\n",
        "\n",
        "# Get number of decimal places as an integer\n",
        "exponent = int(len(digits))-1\n",
        "\n",
        "# Convert the input to a float number\n",
        "n = float(digits)\n",
        "\n",
        "# Use the exponent to get the numerator\n",
        "numerator = int(n * 10**exponent)\n",
        "\n",
        "# Use the expoent to get the denominator\n",
        "denominator = 10**exponent\n",
        "\n",
        "# percent is the first two decimal places\n",
        "percent = n * 100\n",
        "\n",
        "# Output\n",
        "print(\"The decimal is \", n)\n",
        "print(\"The fraction is \", numerator, \"/\", denominator)\n",
        "print(\"The percent is \", percent, \" %\")\n"
      ],
      "metadata": {
        "colab": {
          "base_uri": "https://localhost:8080/"
        },
        "id": "7F3m98WOQuxX",
        "outputId": "ed0c6f53-2056-4b72-cc50-943481bda2a3"
      },
      "execution_count": null,
      "outputs": [
        {
          "output_type": "stream",
          "name": "stdout",
          "text": [
            "Enter a decimal number to convert: .3\n",
            "The decimal is  0.3\n",
            "The fraction is  3 / 10\n",
            "The percent is  30.0  %\n"
          ]
        }
      ]
    },
    {
      "cell_type": "markdown",
      "source": [
        "# Functions"
      ],
      "metadata": {
        "id": "vSuR5Uu3PoNp"
      }
    },
    {
      "cell_type": "code",
      "source": [
        "x = 5\n",
        "y = 4*x + 3 # The function \n",
        "\n",
        "print(x,\",\",y)\n",
        "print(\"x \\t y\") \n",
        "\n",
        "for x in range(11):\n",
        "    y = 4*x + 3  # The function\n",
        "    print(x, \"\\t\", y)\n",
        "\n"
      ],
      "metadata": {
        "colab": {
          "base_uri": "https://localhost:8080/"
        },
        "id": "hAnoELKOPkCE",
        "outputId": "711e0266-5481-4241-eec7-4c6a26957264"
      },
      "execution_count": null,
      "outputs": [
        {
          "output_type": "stream",
          "name": "stdout",
          "text": [
            "5 , 23\n",
            "x \t y\n",
            "0 \t 3\n",
            "1 \t 7\n",
            "2 \t 11\n",
            "3 \t 15\n",
            "4 \t 19\n",
            "5 \t 23\n",
            "6 \t 27\n",
            "7 \t 31\n",
            "8 \t 35\n",
            "9 \t 39\n",
            "10 \t 43\n"
          ]
        }
      ]
    },
    {
      "cell_type": "markdown",
      "source": [
        "## Defning a Python function"
      ],
      "metadata": {
        "id": "_5jmF9ydR2cs"
      }
    },
    {
      "cell_type": "code",
      "source": [
        "def f(x):\n",
        "   y = 4*x + 3\n",
        "   return y\n",
        "\n",
        "print(5, \",\", f(5)) \n",
        "\n",
        "# Next, a loop\n",
        "for x in range(11):\n",
        "    print(x, \"\\t\", f(x)) "
      ],
      "metadata": {
        "colab": {
          "base_uri": "https://localhost:8080/"
        },
        "id": "5bT6di0rPmaT",
        "outputId": "b61f75c2-c94a-455d-c1f0-4c9f4c6f443d"
      },
      "execution_count": null,
      "outputs": [
        {
          "output_type": "stream",
          "name": "stdout",
          "text": [
            "5 , 23\n",
            "0 \t 3\n",
            "1 \t 7\n",
            "2 \t 11\n",
            "3 \t 15\n",
            "4 \t 19\n",
            "5 \t 23\n",
            "6 \t 27\n",
            "7 \t 31\n",
            "8 \t 35\n",
            "9 \t 39\n",
            "10 \t 43\n"
          ]
        }
      ]
    },
    {
      "cell_type": "markdown",
      "source": [
        "## Graphing functions"
      ],
      "metadata": {
        "id": "XmUXp5Z7ST0N"
      }
    },
    {
      "cell_type": "code",
      "source": [
        "# Basic blank graph\n",
        "\n",
        "import matplotlib.pyplot as plt\n",
        "\n",
        "fig, ax = plt.subplots()\n",
        "plt.show()\n"
      ],
      "metadata": {
        "colab": {
          "base_uri": "https://localhost:8080/",
          "height": 269
        },
        "id": "JLRaoj2tSknN",
        "outputId": "b12d5c56-bb65-4fe7-869a-a9a2ef980ed1"
      },
      "execution_count": null,
      "outputs": [
        {
          "output_type": "display_data",
          "data": {
            "text/plain": [
              "<Figure size 432x288 with 1 Axes>"
            ],
            "image/png": "[encoded data removed]"
          },
          "metadata": {
            "needs_background": "light"
          }
        }
      ]
    },
    {
      "cell_type": "code",
      "source": [
        "# Define dimensions of graph\n",
        "import matplotlib.pyplot as plt\n",
        "\n",
        "xmin = -10\n",
        "xmax = 10\n",
        "ymin = -10\n",
        "ymax = 20\n",
        "\n",
        "fig, ax = plt.subplots()\n",
        "plt.axis([xmin,xmax,ymin,ymax]) # window size\n",
        "plt.show()"
      ],
      "metadata": {
        "colab": {
          "base_uri": "https://localhost:8080/",
          "height": 269
        },
        "id": "3iR7Q6hVS2bH",
        "outputId": "ea01b01c-2c41-40d7-cba1-dc0a5b29e56c"
      },
      "execution_count": null,
      "outputs": [
        {
          "output_type": "display_data",
          "data": {
            "text/plain": [
              "<Figure size 432x288 with 1 Axes>"
            ],
            "image/png": "[encoded data removed]"
          },
          "metadata": {
            "needs_background": "light"
          }
        }
      ]
    },
    {
      "cell_type": "code",
      "source": [
        "# Display axis lines\n",
        "import matplotlib.pyplot as plt\n",
        "\n",
        "xmin = -10\n",
        "xmax = 10\n",
        "ymin = -10\n",
        "ymax = 10\n",
        "\n",
        "fig, ax = plt.subplots()\n",
        "plt.axis([xmin,xmax,ymin,ymax]) # window size\n",
        "plt.plot([xmin,xmax],[0,0],'g') # green x axis\n",
        "plt.plot([0,0],[ymin,ymax], 'b') # blue y axis\n",
        "\n",
        "plt.show()\n"
      ],
      "metadata": {
        "colab": {
          "base_uri": "https://localhost:8080/",
          "height": 269
        },
        "id": "Nmyjh86NS-ZC",
        "outputId": "2efc95f9-be53-4c32-ad6a-68a9b01eab12"
      },
      "execution_count": null,
      "outputs": [
        {
          "output_type": "display_data",
          "data": {
            "text/plain": [
              "<Figure size 432x288 with 1 Axes>"
            ],
            "image/png": "[encoded data removed]"
          },
          "metadata": {
            "needs_background": "light"
          }
        }
      ]
    },
    {
      "cell_type": "code",
      "source": [
        "# Plot one point\n",
        "\n",
        "import matplotlib.pyplot as plt\n",
        "\n",
        "xmin = -10\n",
        "xmax = 10\n",
        "ymin = -10\n",
        "ymax = 10\n",
        "\n",
        "fig, ax = plt.subplots()\n",
        "plt.axis([xmin,xmax,ymin,ymax]) # window size\n",
        "plt.plot([xmin,xmax],[0,0],'black') # blue x axis\n",
        "plt.plot([0,0],[ymin,ymax], 'black') # blue y axis\n",
        "\n",
        "\n",
        "plt.plot([5],[4], 'ro') # 0 means circle dor, r = red\n",
        "plt.plot([-5],[-4], 'rd') # d means dash dot, r = red\n",
        "plt.show()"
      ],
      "metadata": {
        "colab": {
          "base_uri": "https://localhost:8080/",
          "height": 269
        },
        "id": "QpP-4yGoTAiS",
        "outputId": "21a2e76e-8b1e-4c33-9423-90740500d3d1"
      },
      "execution_count": null,
      "outputs": [
        {
          "output_type": "display_data",
          "data": {
            "text/plain": [
              "<Figure size 432x288 with 1 Axes>"
            ],
            "image/png": "[encoded data removed]"
          },
          "metadata": {
            "needs_background": "light"
          }
        }
      ]
    },
    {
      "cell_type": "code",
      "source": [
        "# Graph and table of (x,y) values\n",
        "\n",
        "import matplotlib.pyplot as plt\n",
        "\n",
        "xmin = -10\n",
        "xmax = 10\n",
        "ymin = -10\n",
        "ymax = 10\n",
        "\n",
        "fig, ax = plt.subplots()\n",
        "plt.axis([xmin,xmax,ymin,ymax]) # window size\n",
        "plt.plot([xmin,xmax],[0,0],'b') # blue x axis\n",
        "plt.plot([0,0],[ymin,ymax], 'b') # blue y axis\n",
        "\n",
        "print(\"x \\t y\")\n",
        "for x in range(xmin, xmax+1):\n",
        "    y = 0.5*x + 1\n",
        "    plt.plot([x],[y], 'ro')\n",
        "    print(x,\"\\t\",y)\n",
        "\n",
        "plt.show()"
      ],
      "metadata": {
        "colab": {
          "base_uri": "https://localhost:8080/",
          "height": 651
        },
        "id": "dnlCv8PGTFf8",
        "outputId": "9eb96d2d-b62b-412a-c4cf-48c69cc53326"
      },
      "execution_count": null,
      "outputs": [
        {
          "output_type": "stream",
          "name": "stdout",
          "text": [
            "x \t y\n",
            "-10 \t -4.0\n",
            "-9 \t -3.5\n",
            "-8 \t -3.0\n",
            "-7 \t -2.5\n",
            "-6 \t -2.0\n",
            "-5 \t -1.5\n",
            "-4 \t -1.0\n",
            "-3 \t -0.5\n",
            "-2 \t 0.0\n",
            "-1 \t 0.5\n",
            "0 \t 1.0\n",
            "1 \t 1.5\n",
            "2 \t 2.0\n",
            "3 \t 2.5\n",
            "4 \t 3.0\n",
            "5 \t 3.5\n",
            "6 \t 4.0\n",
            "7 \t 4.5\n",
            "8 \t 5.0\n",
            "9 \t 5.5\n",
            "10 \t 6.0\n"
          ]
        },
        {
          "output_type": "display_data",
          "data": {
            "text/plain": [
              "<Figure size 432x288 with 1 Axes>"
            ],
            "image/png": "[encoded data removed]"
          },
          "metadata": {
            "needs_background": "light"
          }
        }
      ]
    },
    {
      "cell_type": "code",
      "source": [
        "# use numpy for generating linearly spaced values\n",
        "\n",
        "import matplotlib.pyplot as plt\n",
        "import numpy as np\n",
        "\n",
        "xmin = -10\n",
        "xmax = 10\n",
        "ymin = -10\n",
        "ymax = 10\n",
        "points = 5\n",
        "x = np.linspace(xmin, xmax, points)\n",
        "\n",
        "fig, ax = plt.subplots()\n",
        "plt.axis([xmin,xmax,ymin,ymax]) # window size\n",
        "plt.plot([xmin,xmax],[0,0],'b') # blue x axis\n",
        "plt.plot([0,0],[ymin,ymax], 'b') # blue y axis\n",
        "\n",
        "y = 2*x +1\n",
        "plt.plot(x,y, 'pink')\n",
        "\n",
        "plt.show()"
      ],
      "metadata": {
        "colab": {
          "base_uri": "https://localhost:8080/",
          "height": 269
        },
        "id": "v-oyvgNYTNpK",
        "outputId": "ee30dfdb-951d-45db-9bf1-32e5b90c20e2"
      },
      "execution_count": null,
      "outputs": [
        {
          "output_type": "display_data",
          "data": {
            "text/plain": [
              "<Figure size 432x288 with 1 Axes>"
            ],
            "image/png": "[encoded data removed]"
          },
          "metadata": {
            "needs_background": "light"
          }
        }
      ]
    },
    {
      "cell_type": "code",
      "source": [
        "# More ways to customize a graph\n",
        "\n",
        "import matplotlib.pyplot as plt\n",
        "import numpy as np\n",
        "\n",
        "xmin = -10\n",
        "xmax = 10\n",
        "ymin = -10\n",
        "ymax = 10\n",
        "points = 2*(xmax-xmin)\n",
        "x = np.linspace(xmin, xmax, points)\n",
        "\n",
        "fig, ax = plt.subplots()\n",
        "plt.axis([xmin,xmax,ymin,ymax]) # window size\n",
        "plt.plot([xmin,xmax],[0,0],'b') # blue x axis\n",
        "plt.plot([0,0],[ymin,ymax], 'b') # blue y axis\n",
        "\n",
        "ax.set_xlabel(\"x values\")\n",
        "ax.set_ylabel(\"y values\")\n",
        "ax.set_title(\"My Graph\")\n",
        "ax.grid(True)\n",
        "\n",
        "# np.arange(1,5,1) --> array([1, 2, 3, 4])\n",
        "ax.set_xticks(np.arange(xmin, xmax, 1)) \n",
        "ax.set_yticks(np.arange(ymin, ymax, 1)) \n",
        "\n",
        "y = 2*x +1\n",
        "plt.plot(x,y, label='y=2x+1')\n",
        "plt.plot([4],[6], 'ro', label='point')\n",
        "plt.plot(x,3*x, label='steeper line')\n",
        "plt.legend()\n",
        "plt.show()"
      ],
      "metadata": {
        "colab": {
          "base_uri": "https://localhost:8080/",
          "height": 295
        },
        "id": "_rvynpFbq8ZZ",
        "outputId": "f14f4185-dd53-4598-cfcb-5bd8569ee6df"
      },
      "execution_count": null,
      "outputs": [
        {
          "output_type": "display_data",
          "data": {
            "text/plain": [
              "<Figure size 432x288 with 1 Axes>"
            ],
            "image/png": "[encoded data removed]"
          },
          "metadata": {
            "needs_background": "light"
          }
        }
      ]
    },
    {
      "cell_type": "markdown",
      "source": [
        "# Slope and intersept\n",
        "(m, slope — угловой коэффициент, b — точка пересечения с осью y)\n"
      ],
      "metadata": {
        "id": "-IpgE7km-2IT"
      }
    },
    {
      "cell_type": "markdown",
      "source": [
        "\n",
        "\n",
        "slope = m = $\\frac{y2-y1}{x2-x1}$\n",
        "\n",
        "b = y1 - m*x1"
      ],
      "metadata": {
        "id": "663Yj1eP-S16"
      }
    },
    {
      "cell_type": "code",
      "source": [
        "x1 = 1\n",
        "y1 = 7\n",
        "x2 = 2\n",
        "y2 = 10\n",
        "\n",
        "slope = (y2 - y1) / (x2 - x1)\n",
        "\n",
        "print(\"slope = \", slope)"
      ],
      "metadata": {
        "colab": {
          "base_uri": "https://localhost:8080/"
        },
        "id": "01hmuyFCu_ob",
        "outputId": "cc745a40-39f2-438f-c780-3f1d033360d9"
      },
      "execution_count": null,
      "outputs": [
        {
          "output_type": "stream",
          "name": "stdout",
          "text": [
            "slope =  3.0\n"
          ]
        }
      ]
    },
    {
      "cell_type": "code",
      "source": [
        "x1 = 1\n",
        "y1 = 7\n",
        "x2 = 2\n",
        "y2 = 10\n",
        "\n",
        "# The slope is \"m\"\n",
        "m = (y2 - y1) / (x2 - x1)\n",
        "\n",
        "# The y intercept is \"b\"\n",
        "b = y1 - m*x1\n",
        "\n",
        "# The full equation\n",
        "print(\"y = \", m, \"x + \", b)"
      ],
      "metadata": {
        "colab": {
          "base_uri": "https://localhost:8080/"
        },
        "id": "6lOsmvJ1-TZ1",
        "outputId": "5f86b5fc-b0da-4400-9cf0-0af62db0d79c"
      },
      "execution_count": null,
      "outputs": [
        {
          "output_type": "stream",
          "name": "stdout",
          "text": [
            "y =  3.0 x +  4.0\n"
          ]
        }
      ]
    },
    {
      "cell_type": "code",
      "source": [
        "import matplotlib.pyplot as plt\n",
        "import numpy as np\n",
        "\n",
        "x1 = 2\n",
        "y1 = 3\n",
        "x2 = 6\n",
        "y2 = 8\n",
        "\n",
        "# Develop the equation y = mx + b\n",
        "m = (y2 - y1) / (x2 - x1)\n",
        "b = y1 - m*x1\n",
        "print(\"y = \", m, \"x + \", b)\n",
        "\n",
        "# For the graph\n",
        "xmin = -10\n",
        "xmax = 10\n",
        "ymin = -10\n",
        "ymax = 10\n",
        "\n",
        "# For the line on the graph\n",
        "# y3 = m*xmin + b \n",
        "# y4 = m*xmax + b\n",
        "y3 = 1.25*xmin + 25\n",
        "y4 = 1.25*xmax + 25\n",
        "\n",
        "\n",
        "\n",
        "# Basic setup for the graph\n",
        "fig, ax = plt.subplots()\n",
        "plt.axis([xmin,xmax,ymin,ymax]) # window size\n",
        "plt.plot([xmin,xmax],[0,0],'b') # blue x axis\n",
        "plt.plot([0,0],[ymin,ymax], 'b') # blue y axis\n",
        "\n",
        "# Plot the linear function as a red line\n",
        "plt.plot([xmin,xmax],[y3,y4],'r')\n",
        "ax.grid(True)\n",
        "ax.set_xticks(np.arange(xmin, xmax, 1)) \n",
        "ax.set_yticks(np.arange(ymin, ymax, 1)) \n",
        "plt.show()"
      ],
      "metadata": {
        "colab": {
          "base_uri": "https://localhost:8080/",
          "height": 282
        },
        "id": "TooHfe_A--A9",
        "outputId": "86f9cf3a-253b-4f5e-e309-d2c5b52316cd"
      },
      "execution_count": null,
      "outputs": [
        {
          "output_type": "stream",
          "name": "stdout",
          "text": [
            "y =  1.25 x +  0.5\n"
          ]
        },
        {
          "output_type": "display_data",
          "data": {
            "text/plain": [
              "<Figure size 432x288 with 1 Axes>"
            ],
            "image/png": "[encoded data removed]"
          },
          "metadata": {
            "needs_background": "light"
          }
        }
      ]
    },
    {
      "cell_type": "code",
      "source": [
        "import matplotlib.pyplot as plt\n",
        "import numpy as np\n",
        "\n",
        "x1 = 2\n",
        "y1 = 3\n",
        "x2 = 6\n",
        "y2 = 8\n",
        "\n",
        "# Develop the equation y = mx + b\n",
        "m = (y2 - y1) / (x2 - x1)\n",
        "b = y1 - m*x1\n",
        "print(\"y = \", m, \"x + \", b)\n",
        "\n",
        "# For the graph\n",
        "xmin = -10\n",
        "xmax = 10\n",
        "ymin = -10\n",
        "ymax = 10\n",
        "\n",
        "# For the line on the graph\n",
        "# y3 = m*xmin + b \n",
        "# y4 = m*xmax + b\n",
        "\n",
        "y3 = 5*xmin + .5\n",
        "y4 = 5*xmax + .5\n",
        "\n",
        "\n",
        "\n",
        "# Basic setup for the graph\n",
        "fig, ax = plt.subplots()\n",
        "plt.axis([xmin,xmax,ymin,ymax]) # window size\n",
        "plt.plot([xmin,xmax],[0,0],'b') # blue x axis\n",
        "plt.plot([0,0],[ymin,ymax], 'b') # blue y axis\n",
        "\n",
        "# Plot the linear function as a red line\n",
        "plt.plot([-100,100],[y3,y4],'r')\n",
        "ax.grid(True)\n",
        "ax.set_xticks(np.arange(xmin, xmax, 1)) \n",
        "ax.set_yticks(np.arange(ymin, ymax, 1)) \n",
        "plt.show()"
      ],
      "metadata": {
        "colab": {
          "base_uri": "https://localhost:8080/",
          "height": 282
        },
        "id": "UU3ETmFrWVmD",
        "outputId": "bb853c97-fd9f-49a9-b051-06ef9a0c47ee"
      },
      "execution_count": null,
      "outputs": [
        {
          "output_type": "stream",
          "name": "stdout",
          "text": [
            "y =  1.25 x +  0.5\n"
          ]
        },
        {
          "output_type": "display_data",
          "data": {
            "text/plain": [
              "<Figure size 432x288 with 1 Axes>"
            ],
            "image/png": "[encoded data removed]"
          },
          "metadata": {
            "needs_background": "light"
          }
        }
      ]
    },
    {
      "cell_type": "code",
      "source": [
        "import matplotlib.pyplot as plt\n",
        "\n",
        "x1 = 1\n",
        "y1 = 2\n",
        "x2 = 6\n",
        "y2 = 10\n",
        "\n",
        "# Develop the equation y = mx + b\n",
        "m = (y2 - y1) / (x2 - x1)\n",
        "b = y1 - m*x1\n",
        "print(\"y = \", m, \"x + \", b)\n",
        "\n",
        "# For the graph\n",
        "xmin = -10\n",
        "xmax = 10\n",
        "ymin = -10\n",
        "ymax = 10\n",
        "\n",
        "# For the line on the graph\n",
        "y3 = m*xmin + b \n",
        "y4 = m*xmax + b \n",
        "\n",
        "# Basic setup for the graph\n",
        "fig, ax = plt.subplots()\n",
        "plt.axis([xmin,xmax,ymin,ymax]) # window size\n",
        "plt.plot([xmin,xmax],[0,0],'b') # blue x axis\n",
        "plt.plot([0,0],[ymin,ymax], 'b') # blue y axis\n",
        "\n",
        "# Plot the linear function as a red line\n",
        "plt.plot([xmin,xmax],[y3,y4],'r')\n",
        "ax.grid(True)\n",
        "ax.set_xticks(np.arange(xmin, xmax, 1)) \n",
        "ax.set_yticks(np.arange(ymin, ymax, 1)) \n",
        "plt.show()"
      ],
      "metadata": {
        "colab": {
          "base_uri": "https://localhost:8080/",
          "height": 282
        },
        "id": "aq3g4xvHAMxC",
        "outputId": "f55fb0b1-9da3-4b9d-b0a4-e898e55d52a4"
      },
      "execution_count": null,
      "outputs": [
        {
          "output_type": "stream",
          "name": "stdout",
          "text": [
            "y =  1.6 x +  0.3999999999999999\n"
          ]
        },
        {
          "output_type": "display_data",
          "data": {
            "text/plain": [
              "<Figure size 432x288 with 1 Axes>"
            ],
            "image/png": "[encoded data removed]"
          },
          "metadata": {
            "needs_background": "light"
          }
        }
      ]
    },
    {
      "cell_type": "markdown",
      "source": [
        "## Exercises"
      ],
      "metadata": {
        "id": "CxRCq7C456yH"
      }
    },
    {
      "cell_type": "markdown",
      "source": [
        "The number of people afflicted with the common cold in the winter months dropped steadily by 50 each year since 2004 until 2010. In 2004, 875 people were inflicted.\n",
        "Find the linear function that models the number of people afflicted with the common cold C as a function of the year,  𝑡.\n",
        "  When will no one be afflicted?"
      ],
      "metadata": {
        "id": "ai9sWy7v6Axn"
      }
    },
    {
      "cell_type": "code",
      "source": [
        "import matplotlib.pyplot as plt\n",
        "import numpy as np\n",
        "x1 = 0\n",
        "y1 = 875\n",
        "x2 = 1\n",
        "y2 = 825\n",
        "\n",
        "\n",
        "# Develop the equation y = mx + b\n",
        "m = (y2 - y1) / (x2 - x1)\n",
        "b = y1 - m*x1\n",
        "print(\"y = \", m, \"x + \", b)\n",
        "\n",
        "# For the graph\n",
        "xmin = 0\n",
        "xmax = 20\n",
        "ymin = 0\n",
        "ymax = 900\n",
        "\n",
        "# For the line on the graph\n",
        "y3 = m*xmin + b \n",
        "y4 = m*xmax + b \n",
        "\n",
        "# Basic setup for the graph\n",
        "fig, ax = plt.subplots()\n",
        "plt.axis([xmin,xmax,ymin,ymax]) # window size\n",
        "plt.plot([xmin,xmax],[0,0],'b') # blue x axis\n",
        "plt.plot([0,0],[ymin,ymax], 'b') # blue y axis\n",
        "\n",
        "# Add details to the graph\n",
        "ax.set_xlabel(\"time\")\n",
        "ax.set_ylabel(\"cases\")\n",
        "ax.grid(True)\n",
        "#ax.set_xticks(np.arange(xmin, xmax, 2))\n",
        "#ax.set_yticks(np.arange(ymin, ymax, 1))\n",
        "\n",
        "print(f\"\"\"\n",
        "xmin: {xmin},\n",
        "xmax: {xmax}\n",
        "y3: {y3}\n",
        "y4: {y4}\"\"\")\n",
        "print(f\"\"\"the first answer is: -50.0 x +  875.0 --> -50.0 * 5 +  875.0 = {-50.0 * 5 +  875.0}\"\"\")\n",
        "# Plot the linear function as a red line\n",
        "plt.plot([xmin,xmax],[y3,y4],'r')\n",
        "\n",
        "plt.show()"
      ],
      "metadata": {
        "colab": {
          "base_uri": "https://localhost:8080/",
          "height": 405
        },
        "id": "7Ma4k_1N6DKu",
        "outputId": "eaf92fe6-e53a-42de-894c-797a67cb251f"
      },
      "execution_count": null,
      "outputs": [
        {
          "output_type": "stream",
          "name": "stdout",
          "text": [
            "y =  -50.0 x +  875.0\n",
            "\n",
            "xmin: 0,\n",
            "xmax: 20\n",
            "y3: 875.0\n",
            "y4: -125.0\n",
            "the first answer is: -50.0 x +  875.0 --> -50.0 * 5 +  875.0 = 625.0\n"
          ]
        },
        {
          "output_type": "display_data",
          "data": {
            "text/plain": [
              "<Figure size 432x288 with 1 Axes>"
            ],
            "image/png": "[encoded data removed]"
          },
          "metadata": {
            "needs_background": "light"
          }
        }
      ]
    },
    {
      "cell_type": "code",
      "source": [
        "import sympy \n",
        "from sympy import symbols \n",
        "from sympy.solvers import solve \n",
        "\n",
        "x = symbols('x') \n",
        "\n",
        "\"\"\"We should calculate the equatation: \n",
        "              y = -50x - 875, where y = 0 \n",
        "    it will look like: \n",
        "             0 = -50x - 875\n",
        "\"\"\"\n",
        "eq = -50*x - 875\n",
        "\n",
        "solution = solve(eq,x)\n",
        "print(\"x = \", float(solution[0]))\n",
        "print(f\"\"\"The second answer is: No one will be afflicted in {float(solution[0])} years\"\"\")"
      ],
      "metadata": {
        "colab": {
          "base_uri": "https://localhost:8080/"
        },
        "id": "YbCPx14t_nJI",
        "outputId": "d373e426-e800-4279-8078-4516137215b4"
      },
      "execution_count": null,
      "outputs": [
        {
          "output_type": "stream",
          "name": "stdout",
          "text": [
            "x =  -17.5\n",
            "The second answer is: No one will be afflicted in -17.5 years\n"
          ]
        }
      ]
    },
    {
      "cell_type": "markdown",
      "source": [
        "# Graphing systems of equations"
      ],
      "metadata": {
        "id": "lnxdh_SpPL_y"
      }
    },
    {
      "cell_type": "code",
      "source": [
        "import matplotlib.pyplot as plt\n",
        "import numpy as np\n",
        "\n",
        "xmin = -10\n",
        "xmax = 10\n",
        "ymin = -10\n",
        "ymax = 10\n",
        "\n",
        "# Define how many points to plot \n",
        "points = 10*(xmax-xmin)\n",
        "\n",
        "# Define the array of x values once\n",
        "x = np.linspace(xmin,xmax,points)\n",
        "\n",
        "fig, ax = plt.subplots()\n",
        "plt.axis([xmin,xmax,ymin,ymax]) # window size\n",
        "plt.plot([xmin,xmax],[0,0],'b') # blue x axis\n",
        "plt.plot([0,0],[ymin,ymax], 'b') # blue y axis\n",
        "\n",
        "# line 1\n",
        "y1 = 3*x\n",
        "plt.plot(x, y1) \n",
        "\n",
        "# line 2\n",
        "y2 = x**3\n",
        "plt.plot(x, y2) \n",
        "\n",
        "ax.grid(True)\n",
        "plt.show()\n"
      ],
      "metadata": {
        "colab": {
          "base_uri": "https://localhost:8080/",
          "height": 269
        },
        "id": "O9_j42DXPKTV",
        "outputId": "570f2a14-4151-4f48-e66f-0cfb68687529"
      },
      "execution_count": null,
      "outputs": [
        {
          "output_type": "display_data",
          "data": {
            "text/plain": [
              "<Figure size 432x288 with 1 Axes>"
            ],
            "image/png": "[encoded data removed]"
          },
          "metadata": {
            "needs_background": "light"
          }
        }
      ]
    },
    {
      "cell_type": "code",
      "source": [
        "import matplotlib.pyplot as plt\n",
        "import numpy as np\n",
        "\n",
        "xmin = -10\n",
        "xmax = 10\n",
        "ymin = -10\n",
        "ymax = 10\n",
        "\n",
        "# Define how many points to plot \n",
        "points = 10*(xmax-xmin)\n",
        "\n",
        "# Define the array of x values once\n",
        "x = np.linspace(xmin,xmax,points)\n",
        "\n",
        "fig, ax = plt.subplots()\n",
        "plt.axis([xmin,xmax,ymin,ymax]) # window size\n",
        "plt.plot([xmin,xmax],[0,0],'b') # blue x axis\n",
        "plt.plot([0,0],[ymin,ymax], 'b') # blue y axis\n",
        "\n",
        "# line 1\n",
        "y1 = 3*x\n",
        "plt.plot(x, y1) \n",
        "\n",
        "# line 2\n",
        "y2 = x**2 - 5\n",
        "plt.plot(x, y2) \n",
        "\n",
        "ax.grid(True)\n",
        "plt.show()"
      ],
      "metadata": {
        "colab": {
          "base_uri": "https://localhost:8080/",
          "height": 269
        },
        "id": "Tlj_1pYUPPh6",
        "outputId": "8dea8137-3d5e-464b-c8e7-a6a83864eb0e"
      },
      "execution_count": null,
      "outputs": [
        {
          "output_type": "display_data",
          "data": {
            "text/plain": [
              "<Figure size 432x288 with 1 Axes>"
            ],
            "image/png": "[encoded data removed]"
          },
          "metadata": {
            "needs_background": "light"
          }
        }
      ]
    },
    {
      "cell_type": "code",
      "source": [
        "import matplotlib.pyplot as plt\n",
        "import numpy as np\n",
        "\n",
        "xmin = -10\n",
        "xmax = 10\n",
        "ymin = -10\n",
        "ymax = 10\n",
        "points = 2*(xmax-xmin)\n",
        "x = np.linspace(xmin,xmax,points)\n",
        "\n",
        "fig, ax = plt.subplots()\n",
        "plt.axis([xmin,xmax,ymin,ymax]) # window size\n",
        "plt.plot([xmin,xmax],[0,0],'b') # blue x axis\n",
        "plt.plot([0,0],[ymin,ymax], 'b') # blue y axis\n",
        "\n",
        "# line 1\n",
        "y1 = x+6\n",
        "plt.plot(x, y1,'-')\n",
        "plt.fill_between(x, y1, ymax, facecolor='red')\n",
        "\n",
        "# line 2\n",
        "y2 = x+3\n",
        "plt.plot(x, y2,'-')\n",
        "plt.fill_between(x, y2, y1, facecolor='yellow')\n",
        "\n",
        "# line 3\n",
        "y3 = x-1\n",
        "plt.plot(x, y3)\n",
        "plt.fill_between(x, y3, y2, facecolor='green')\n",
        "\n",
        "# line 4\n",
        "y4 = x-4\n",
        "plt.plot(x, y4)\n",
        "plt.fill_between(x, y4, y3, facecolor='blue')\n",
        "\n",
        "plt.show()"
      ],
      "metadata": {
        "colab": {
          "base_uri": "https://localhost:8080/",
          "height": 269
        },
        "id": "-2RSsOLpQPCe",
        "outputId": "fafd9156-4f60-4931-f11e-f406e321c1cd"
      },
      "execution_count": null,
      "outputs": [
        {
          "output_type": "display_data",
          "data": {
            "text/plain": [
              "<Figure size 432x288 with 1 Axes>"
            ],
            "image/png": "[encoded data removed]"
          },
          "metadata": {
            "needs_background": "light"
          }
        }
      ]
    },
    {
      "cell_type": "markdown",
      "source": [
        "# Solving system of two equations\n"
      ],
      "metadata": {
        "id": "pFz3cleg_xYu"
      }
    },
    {
      "cell_type": "code",
      "source": [
        "# Simplest way to solve a system of equations. Set each equation equal to zero\n",
        "from sympy import *\n",
        "\n",
        "x,y = symbols('x y')\n",
        "\n",
        "# Equations set equal to zero\n",
        "first = 2*x + y - 1 \n",
        "second = x - 2*y + 7 \n",
        "\n",
        "# The solution\n",
        "print(linsolve([first, second], (x, y))) "
      ],
      "metadata": {
        "colab": {
          "base_uri": "https://localhost:8080/"
        },
        "id": "wVc-xyr3_8Ca",
        "outputId": "4928fb9d-76c3-4635-8ac0-107699fb0ab0"
      },
      "execution_count": 1,
      "outputs": [
        {
          "output_type": "stream",
          "name": "stdout",
          "text": [
            "{(-1, 3)}\n"
          ]
        }
      ]
    },
    {
      "cell_type": "code",
      "source": [],
      "metadata": {
        "id": "69aWYfJMAA95"
      },
      "execution_count": null,
      "outputs": []
    }
  ]
}